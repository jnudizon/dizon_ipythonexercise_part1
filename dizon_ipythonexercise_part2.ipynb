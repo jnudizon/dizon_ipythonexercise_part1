{
 "cells": [
  {
   "cell_type": "markdown",
   "metadata": {},
   "source": [
    "# IPython, Part 2"
   ]
  },
  {
   "cell_type": "markdown",
   "metadata": {},
   "source": [
    "Part 2.1  Using the Command History\n",
    "\n",
    "1.  IPython maintains a small on-disk database containing the text of each command that you execute.  What purposes does it serve?\n",
    "\n",
    "Searching, completing and executing previously executed commands with minimal typing. Command history becomes persistent between sessions, as input/output history is logged to a file.\n",
    "\n",
    "2.  Searching and reusing the command history:  what keyboard shortcut should you use when searching a previous-executed command?\n",
    "\n",
    "Ctrl+P"
   ]
  },
  {
   "cell_type": "markdown",
   "metadata": {},
   "source": [
    "Part 2.2  Input and Output Variables Using \\_ (one underscore) and __ (two underscores) Variables\n",
    "\n",
    "3.  Illustrate how to use \\_, __, _iX (where x is the input cell number).\n",
    "The variable will be stored to the underscores. For each input variable there is a corresponding output variable."
   ]
  },
  {
   "cell_type": "markdown",
   "metadata": {},
   "source": [
    "Part 2.3  Logging the Input and Output\n",
    "\n",
    "1.  IPython is capable of logging the entire console session including input and output.  Good news:  IPython logging can be enabled at any time and it will record your entire session (including previous commands).  Thus, if you are working on something and you decide you want to save everything you did, you can simply enable logging.  How do you turn on logging?\n",
    "\n",
    "%logstart"
   ]
  },
  {
   "cell_type": "markdown",
   "metadata": {},
   "source": [
    "Part 2.3:  Interacting with the Operating System\n",
    "\n",
    "IPython also provides very strong integration with the operating system shell.  This means, among other things, that you can perform most standard command line actions as you would in the Windows or Unix (Linux, OS X) shell without having to exit IPython.  What is the IPython system-related command for each of the following? (note: the keyword is IPython-specific command)\n",
    "\n",
    "1.  Execute cmd in the system shell\n",
    "2.  Run cmd and store the stdout in 'output' (object or file)\n",
    "3.  Utilize IPython's directory bookmarking system\n",
    "4.  Change working directory\n",
    "5.  Return the current working directory\n",
    "6.  Print the history of visited directories\n",
    "7.  Return the system environment variables as a dict\n",
    "\n",
    "1. !cmd\n",
    "2. output = !cmd args\n",
    "3. %bookmark\n",
    "4. %cd directory\n",
    "5. %pwed\n",
    "6. %dhist\n",
    "7. %env"
   ]
  },
  {
   "cell_type": "markdown",
   "metadata": {},
   "source": [
    "Part 2.4:  Shell Commands and Aliases\n",
    "\n",
    "Starting a line in IPython with an exclamation point !, or bang, tells IPython to execute everything after the bang in the system shell.  It's even possible to start processes that take control away from IPython, even another Python interpreter.  Input: !python to have a python interpret environment inside the ipython console.\n",
    "\n",
    "1.  The console output of a shell command can be stored in a variable by assigning the !-escaped expressions to a variables.  Get your IP address and store it in a Python variable 'my_ip_info'.  (Hint: the linux command to use is ifconfig; the IP address is most likely found in the eth0, use redirection and grep for 'inet').\n",
    "\n",
    "ip_info(0)strip()\n",
    "'inet addr:192.168.1.104 Bcast:192.168.1.255 Mask:255.255.255.0'"
   ]
  },
  {
   "cell_type": "markdown",
   "metadata": {},
   "source": [
    "Part 2.5:  Directory Bookmark System\n",
    "\n",
    "IPython has a simple directory bookmarking system to enable you to save aliases for common directories so that you can jump around very easily.\n",
    "\n",
    "1.  choose a directory in your system and bookmark it.\n",
    "%bookmark db /home/Documents/Python/\n",
    "\n",
    "2.  What is the difference between %bookmark and %alias (in terms of persistence)?\n",
    "Bookmarks automatically persist between sessions."
   ]
  },
  {
   "cell_type": "markdown",
   "metadata": {},
   "source": [
    "## Software Development Tools"
   ]
  },
  {
   "cell_type": "markdown",
   "metadata": {},
   "source": [
    "In addition to being a comfortable environment for interactive computing and data exploration, IPython is well suited as a software development environment.\n",
    "\n",
    "1.  In data analysis applications, it's important first to have correc code --> IPython has closely integrated and enhanced the built-in Python pdf debugger.\n",
    "\n",
    "2.  You want your code to be fast -->  IPython has easy-to-use code timing and profiling tools.\n"
   ]
  },
  {
   "cell_type": "markdown",
   "metadata": {},
   "source": [
    "Part 2.6  Interactive Debugger\n",
    "\n",
    "IPython's debugger enhances pdb with tab completion, syntax highlighting, and context for each line in exception tracebacks.  One of the best times to debug code is right after an error has occured.  The %debug command, when entered immediately after an exception, invokes the 'post-mortem' debugger and drops you into the stack frame where the exception was raised.\n",
    "\n",
    "1.  Using the code in IPython Exercise Part 1 (ipython_bug.py), run it again and then invoke %debug.  What do you see?\n",
    "\n",
    "AssertionError Traceback (most recent call last)\n",
    "/home/Documents/Python/ipython_bug.py in <module>()\n",
    "13 \tthrows_an_exception()\n",
    "14\n",
    "---> \t15 calling_things()\n",
    "\n",
    "/home/ Documents/Python/ipython_bug.py in calling_things()\n",
    "11 def calling_things():\n",
    "12 \tworks_fine()\n",
    "---> \t13 \tthrows_an_exception()\n",
    "14\n",
    "15 calling_things()\n",
    "\n",
    "/home/Documents/Python/ipython_bug.py in throws_an_exception()\n",
    "7\ta = 5\n",
    "8 \tb = 6\n",
    "----> \t9 \tassert(a + b == 10)\n",
    "10\n",
    "11 def calling_things():\n",
    "\n",
    "AssertionError:\n",
    "\n",
    "In [3]: %debug\n",
    "> /home/ Documents/Python/ipython_bug.py(9)throws_an_exception()\n",
    "8\t b = 6\n",
    "----> \t9 \tassert(a + b == 10)\n",
    "10\n",
    "ipdb>\n",
    "\n",
    "2.  Once inside the debugger, you can execute arbitrary Python code and explore all of the objects and data (which have been 'kept alive' by the interpreter) inside each stack frame.  By default, you start in the lowest level, where the error occurred.  By pressing u (up) and d (down), you can switch between the levels of the stack trace.  \n",
    "\n",
    "\n",
    "3.  It's also easy to use the debugger to help develop code.  Use %run with the -d flag, which invokes the debugger before executing any code in the passed script.  You must immediately press s (step) to enter the script.  "
   ]
  },
  {
   "cell_type": "code",
   "execution_count": null,
   "metadata": {
    "collapsed": false
   },
   "outputs": [],
   "source": [
    "%run ipython_bug.py"
   ]
  },
  {
   "cell_type": "code",
   "execution_count": null,
   "metadata": {
    "collapsed": false
   },
   "outputs": [
    {
     "name": "stdout",
     "output_type": "stream",
     "text": [
      "> \u001b[0;32m/home/user1/Downloads/ipython_bug.py\u001b[0m(11)\u001b[0;36mthrows_an_exception\u001b[0;34m()\u001b[0m\n",
      "\u001b[0;32m     10 \u001b[0;31m   \u001b[0mb\u001b[0m \u001b[0;34m=\u001b[0m \u001b[0;36m6\u001b[0m\u001b[0;34m\u001b[0m\u001b[0m\n",
      "\u001b[0m\u001b[0;32m---> 11 \u001b[0;31m   \u001b[0;32massert\u001b[0m\u001b[0;34m(\u001b[0m\u001b[0ma\u001b[0m \u001b[0;34m+\u001b[0m \u001b[0mb\u001b[0m \u001b[0;34m==\u001b[0m \u001b[0;36m10\u001b[0m\u001b[0;34m)\u001b[0m\u001b[0;34m\u001b[0m\u001b[0m\n",
      "\u001b[0m\u001b[0;32m     12 \u001b[0;31m\u001b[0;34m\u001b[0m\u001b[0m\n",
      "\u001b[0m\n",
      "ipdb> u\n",
      "> \u001b[0;32m/home/user1/Downloads/ipython_bug.py\u001b[0m(15)\u001b[0;36mcalling_things\u001b[0;34m()\u001b[0m\n",
      "\u001b[0;32m     14 \u001b[0;31m   \u001b[0mworks_fine\u001b[0m\u001b[0;34m(\u001b[0m\u001b[0;34m)\u001b[0m\u001b[0;34m\u001b[0m\u001b[0m\n",
      "\u001b[0m\u001b[0;32m---> 15 \u001b[0;31m   \u001b[0mthrows_an_exception\u001b[0m\u001b[0;34m(\u001b[0m\u001b[0;34m)\u001b[0m\u001b[0;34m\u001b[0m\u001b[0m\n",
      "\u001b[0m\u001b[0;32m     16 \u001b[0;31m\u001b[0;34m\u001b[0m\u001b[0m\n",
      "\u001b[0m\n",
      "ipdb> u\n",
      "> \u001b[0;32m/home/user1/Downloads/ipython_bug.py\u001b[0m(17)\u001b[0;36m<module>\u001b[0;34m()\u001b[0m\n",
      "\u001b[0;32m     16 \u001b[0;31m\u001b[0;34m\u001b[0m\u001b[0m\n",
      "\u001b[0m\u001b[0;32m---> 17 \u001b[0;31m\u001b[0mcalling_things\u001b[0m\u001b[0;34m(\u001b[0m\u001b[0;34m)\u001b[0m\u001b[0;34m\u001b[0m\u001b[0m\n",
      "\u001b[0m\u001b[0;32m     18 \u001b[0;31m\u001b[0;34m\u001b[0m\u001b[0m\n",
      "\u001b[0m\n",
      "ipdb> u\n",
      "> \u001b[0;32m/usr/lib/python2.7/dist-packages/IPython/utils/py3compat.py\u001b[0m(204)\u001b[0;36mexecfile\u001b[0;34m()\u001b[0m\n",
      "\u001b[0;32m    202 \u001b[0;31m            \u001b[0;32melse\u001b[0m\u001b[0;34m:\u001b[0m\u001b[0;34m\u001b[0m\u001b[0m\n",
      "\u001b[0m\u001b[0;32m    203 \u001b[0;31m                \u001b[0mfilename\u001b[0m \u001b[0;34m=\u001b[0m \u001b[0mfname\u001b[0m\u001b[0;34m\u001b[0m\u001b[0m\n",
      "\u001b[0m\u001b[0;32m--> 204 \u001b[0;31m            \u001b[0m__builtin__\u001b[0m\u001b[0;34m.\u001b[0m\u001b[0mexecfile\u001b[0m\u001b[0;34m(\u001b[0m\u001b[0mfilename\u001b[0m\u001b[0;34m,\u001b[0m \u001b[0;34m*\u001b[0m\u001b[0mwhere\u001b[0m\u001b[0;34m)\u001b[0m\u001b[0;34m\u001b[0m\u001b[0m\n",
      "\u001b[0m\n",
      "ipdb> u\n",
      "*** Oldest frame\n",
      "ipdb> d\n",
      "> \u001b[0;32m/home/user1/Downloads/ipython_bug.py\u001b[0m(17)\u001b[0;36m<module>\u001b[0;34m()\u001b[0m\n",
      "\u001b[0;32m     16 \u001b[0;31m\u001b[0;34m\u001b[0m\u001b[0m\n",
      "\u001b[0m\u001b[0;32m---> 17 \u001b[0;31m\u001b[0mcalling_things\u001b[0m\u001b[0;34m(\u001b[0m\u001b[0;34m)\u001b[0m\u001b[0;34m\u001b[0m\u001b[0m\n",
      "\u001b[0m\u001b[0;32m     18 \u001b[0;31m\u001b[0;34m\u001b[0m\u001b[0m\n",
      "\u001b[0m\n",
      "ipdb> d\n",
      "> \u001b[0;32m/home/user1/Downloads/ipython_bug.py\u001b[0m(15)\u001b[0;36mcalling_things\u001b[0;34m()\u001b[0m\n",
      "\u001b[0;32m     14 \u001b[0;31m   \u001b[0mworks_fine\u001b[0m\u001b[0;34m(\u001b[0m\u001b[0;34m)\u001b[0m\u001b[0;34m\u001b[0m\u001b[0m\n",
      "\u001b[0m\u001b[0;32m---> 15 \u001b[0;31m   \u001b[0mthrows_an_exception\u001b[0m\u001b[0;34m(\u001b[0m\u001b[0;34m)\u001b[0m\u001b[0;34m\u001b[0m\u001b[0m\n",
      "\u001b[0m\u001b[0;32m     16 \u001b[0;31m\u001b[0;34m\u001b[0m\u001b[0m\n",
      "\u001b[0m\n",
      "ipdb> d\n",
      "> \u001b[0;32m/home/user1/Downloads/ipython_bug.py\u001b[0m(11)\u001b[0;36mthrows_an_exception\u001b[0;34m()\u001b[0m\n",
      "\u001b[0;32m     10 \u001b[0;31m   \u001b[0mb\u001b[0m \u001b[0;34m=\u001b[0m \u001b[0;36m6\u001b[0m\u001b[0;34m\u001b[0m\u001b[0m\n",
      "\u001b[0m\u001b[0;32m---> 11 \u001b[0;31m   \u001b[0;32massert\u001b[0m\u001b[0;34m(\u001b[0m\u001b[0ma\u001b[0m \u001b[0;34m+\u001b[0m \u001b[0mb\u001b[0m \u001b[0;34m==\u001b[0m \u001b[0;36m10\u001b[0m\u001b[0;34m)\u001b[0m\u001b[0;34m\u001b[0m\u001b[0m\n",
      "\u001b[0m\u001b[0;32m     12 \u001b[0;31m\u001b[0;34m\u001b[0m\u001b[0m\n",
      "\u001b[0m\n"
     ]
    }
   ],
   "source": [
    "%debug\n"
   ]
  },
  {
   "cell_type": "markdown",
   "metadata": {},
   "source": [
    "Part 2.7  Timing Code: %time and %timeit.\n",
    "\n",
    "1.  Illustrate how to use %time and %timeit in IPython.  Prepare your own sample code."
   ]
  },
  {
   "cell_type": "code",
   "execution_count": null,
   "metadata": {
    "collapsed": false
   },
   "outputs": [],
   "source": [
    "# A very large list of strings\n",
    "\n",
    "strings = ['foo', 'foobar', 'baz', 'qux', 'python', 'Guido Van Rossum'] * 1000000\n",
    "\n",
    "method1 = [x for x in strings if x.startswith('foo')]\n",
    "\n",
    "method2 = [x for x in strings if x[:3] == 'foo']"
   ]
  },
  {
   "cell_type": "code",
   "execution_count": null,
   "metadata": {
    "collapsed": false
   },
   "outputs": [],
   "source": [
    "%time method1"
   ]
  },
  {
   "cell_type": "code",
   "execution_count": null,
   "metadata": {
    "collapsed": false
   },
   "outputs": [],
   "source": [
    "%time method2"
   ]
  },
  {
   "cell_type": "code",
   "execution_count": null,
   "metadata": {
    "collapsed": false
   },
   "outputs": [],
   "source": [
    "%timeit method1"
   ]
  },
  {
   "cell_type": "code",
   "execution_count": null,
   "metadata": {
    "collapsed": false
   },
   "outputs": [],
   "source": [
    "%timeit method2"
   ]
  },
  {
   "cell_type": "markdown",
   "metadata": {},
   "source": [
    "Part 2.8  Basic Profiling: %prun and %run -p\n",
    "\n",
    "Profiling code is closely related to timing code, except it is concerned with determining where time is spent.  The main Python profiling tool is the cProfile module, which is not specific to IPython.  cProfile executes a program on any arbitrary block of code while keeping track of how much time is spent in each function."
   ]
  },
  {
   "cell_type": "markdown",
   "metadata": {},
   "source": [
    "Create a simple script which does some linear algebra in a loop (computing the maximum absolute eigenvalues of a series of 100 x 100 matrices), and call it cprof_example.py:"
   ]
  },
  {
   "cell_type": "code",
   "execution_count": null,
   "metadata": {
    "collapsed": false
   },
   "outputs": [],
   "source": [
    "# cprof_example.py\n",
    "\n",
    "import numpy as np\n",
    "from numpy.linalg import eigvals\n",
    "\n",
    "def run_experiment(niter=100):\n",
    "    Y = 100\n",
    "    results = []\n",
    "    \n",
    "    for _ in xrange(niter):\n",
    "        mat = np.random.randn(Y, Y)\n",
    "        max_eigenvalue = np.abs(eigvals(mat)).max()\n",
    "        results.append(max_eigenvalue)\n",
    "    return results\n",
    "\n",
    "some_results = run_experiment()\n",
    "print 'Largest one we saw: %s' % np.max(some_results)"
   ]
  },
  {
   "cell_type": "code",
   "execution_count": null,
   "metadata": {
    "collapsed": false
   },
   "outputs": [],
   "source": [
    "# If it were in a typical linux environment, and not in the IPython environment.\n",
    "# You can still invoke the typical Python interpreter within IPython using '!'.\n",
    "python -m cProfile cprof_example.py"
   ]
  },
  {
   "cell_type": "code",
   "execution_count": null,
   "metadata": {
    "collapsed": false
   },
   "outputs": [],
   "source": [
    "# You can specify a sort order using the -s flag\n",
    "python -m cProfile -s cumulative cprof_example.py"
   ]
  },
  {
   "cell_type": "code",
   "execution_count": null,
   "metadata": {
    "collapsed": false
   },
   "outputs": [],
   "source": [
    "%prun -l some_number -s cumulative run_experiment()"
   ]
  },
  {
   "cell_type": "code",
   "execution_count": null,
   "metadata": {
    "collapsed": false
   },
   "outputs": [],
   "source": [
    "%prun -p -s cumulative cprof_example.py"
   ]
  }
 ],
 "metadata": {
  "language_info": {
   "codemirror_mode": {
    "name": "ipython",
    "version": 2
   },
   "file_extension": ".py",
   "mimetype": "text/x-python",
   "name": "python",
   "nbconvert_exporter": "python",
   "pygments_lexer": "ipython2",
   "version": "2.7.3"
  }
 },
 "nbformat": 4,
 "nbformat_minor": 0
}
